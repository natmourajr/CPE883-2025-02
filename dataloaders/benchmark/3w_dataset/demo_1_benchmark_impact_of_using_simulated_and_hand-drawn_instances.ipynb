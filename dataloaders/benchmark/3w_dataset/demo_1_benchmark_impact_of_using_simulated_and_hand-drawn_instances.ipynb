{
 "cells": [
  {
   "cell_type": "markdown",
   "metadata": {},
   "source": [
    "<center><font size=\"4\"><span style=\"color:blue\">Demonstration 1: benchmark for impact of using simulated and drawn instances</span></font></center>"
   ]
  },
  {
   "cell_type": "markdown",
   "metadata": {},
   "source": [
    "This is a demonstration of a specific challenge (benchmark) that practitioners and researchers can use together with the 3W dataset, and that is defined in the paper **A Realistic and Public Dataset with Rare Undesirable Real Events in Oil Wells** published in the **Journal of Petroleum Science and Engineering** (link [here](https://doi.org/10.1016/j.petrol.2019.106223))."
   ]
  },
  {
   "cell_type": "markdown",
   "metadata": {},
   "source": [
    "**_Disclamer_**\n",
    "\n",
    "_This notebook presents a demonstration. As we have not experienced all the possibilities, for example in terms of approaches, methods, parameter values, and metrics, we do not argue that the results presented here are optimal. However, these results can be used as initial benchmark for other works._"
   ]
  },
  {
   "cell_type": "markdown",
   "metadata": {},
   "source": [
    "# 1. Choices"
   ]
  },
  {
   "cell_type": "markdown",
   "metadata": {},
   "source": [
    "The more relevant choices of the method implemented for this demonstration are:\n",
    "\n",
    "1. Only real instances with undesirable events of the type 1 are used. The types of events that do not have transient period are not appropriate for this demonstration. This type of event has few real instances and also has simulated and drawn instances;\n",
    "1. As the event type 1 has a slow dynimics, it is applied downsample in all the instances;\n",
    "1. The considered metrics are calculated globally by counting the total true positives, false negatives and false positives. Samples from transient and in-regime periods are grouped as abnormal;\n",
    "1. The possible concept drift of normality is not considered. The used method supposes that normality and the undesirable events do not depend on time or specific well;\n",
    "1. Only classifiers (four in total) implemented in the scikit-learn package are used. As optimization of metrics is not a focus of this work, the parameters of the classifiers are not optimized;\n",
    "1. A specific sampling strategy with sliding window is used for each type of period of training instances. In normal periods, the last observations are privileged. In transient periods, it is sought to use observations throughout the transient as a whole. In in-regime periods, the first observations are privileged;\n",
    "1. The sampling strategy in testing instances is different. Information about the periods are not used and it is sought to use observations throughout the instance as a whole;\n",
    "1. Before each round of training and testing:\n",
    "    1. The used instances are appropriately normalized with z-score;\n",
    "    1. The variables of real instances used for training that have a number of NaNs above a threshold or that have a standard deviation below another threshold are discarded.\n",
    "1. For the sake of execution time, it is used a subset of the minimal set of features of the tsfresh package. Other features can improve the classifiers performances;\n",
    "1. All required random_state are assigned to a constant for results to be reproducible;\n",
    "1. Part of rule 3 is violated. The testing set is not always composed of the same number of samples of each label (positive and negative). This needs to be addressed in future work, possibly with an updated version of the 3W dataset. The difficulty is because real instances have slow dynamics and short normal periods. This makes it difficult to establish a window small enough for the rule to be respected and long enough for the dynamics to be learned."
   ]
  },
  {
   "cell_type": "markdown",
   "metadata": {},
   "source": [
    "# 2. Imports and Configurations"
   ]
  },
  {
   "cell_type": "code",
   "execution_count": 4,
   "metadata": {},
   "outputs": [
    {
     "name": "stdout",
     "output_type": "stream",
     "text": [
      "Collecting tsfresh\n",
      "  Downloading tsfresh-0.21.0-py2.py3-none-any.whl.metadata (2.6 kB)\n",
      "Requirement already satisfied: requests>=2.9.1 in /home/felipe/miniconda3/lib/python3.12/site-packages (from tsfresh) (2.32.3)\n",
      "Requirement already satisfied: numpy>=1.15.1 in /home/felipe/miniconda3/lib/python3.12/site-packages (from tsfresh) (2.0.0)\n",
      "Requirement already satisfied: pandas>=0.25.0 in /home/felipe/.local/lib/python3.12/site-packages (from tsfresh) (2.2.2)\n",
      "Requirement already satisfied: statsmodels>=0.13 in /home/felipe/miniconda3/lib/python3.12/site-packages (from tsfresh) (0.14.5)\n",
      "Requirement already satisfied: patsy>=0.4.1 in /home/felipe/miniconda3/lib/python3.12/site-packages (from tsfresh) (1.0.1)\n",
      "Requirement already satisfied: pywavelets in /home/felipe/.local/lib/python3.12/site-packages (from tsfresh) (1.7.0)\n",
      "Requirement already satisfied: scikit-learn>=0.22.0 in /home/felipe/miniconda3/lib/python3.12/site-packages (from tsfresh) (1.5.2)\n",
      "Requirement already satisfied: tqdm>=4.10.0 in /home/felipe/.local/lib/python3.12/site-packages (from tsfresh) (4.66.5)\n",
      "Collecting stumpy>=1.7.2 (from tsfresh)\n",
      "  Downloading stumpy-1.13.0-py3-none-any.whl.metadata (28 kB)\n",
      "Collecting cloudpickle (from tsfresh)\n",
      "  Downloading cloudpickle-3.1.1-py3-none-any.whl.metadata (7.1 kB)\n",
      "Requirement already satisfied: scipy>=1.14.0 in /home/felipe/.local/lib/python3.12/site-packages (from tsfresh) (1.14.1)\n",
      "Requirement already satisfied: python-dateutil>=2.8.2 in /home/felipe/.local/lib/python3.12/site-packages (from pandas>=0.25.0->tsfresh) (2.9.0.post0)\n",
      "Requirement already satisfied: pytz>=2020.1 in /home/felipe/.local/lib/python3.12/site-packages (from pandas>=0.25.0->tsfresh) (2024.1)\n",
      "Requirement already satisfied: tzdata>=2022.7 in /home/felipe/.local/lib/python3.12/site-packages (from pandas>=0.25.0->tsfresh) (2024.1)\n",
      "Requirement already satisfied: charset-normalizer<4,>=2 in /home/felipe/miniconda3/lib/python3.12/site-packages (from requests>=2.9.1->tsfresh) (3.3.2)\n",
      "Requirement already satisfied: idna<4,>=2.5 in /home/felipe/miniconda3/lib/python3.12/site-packages (from requests>=2.9.1->tsfresh) (3.7)\n",
      "Requirement already satisfied: urllib3<3,>=1.21.1 in /home/felipe/miniconda3/lib/python3.12/site-packages (from requests>=2.9.1->tsfresh) (2.2.2)\n",
      "Requirement already satisfied: certifi>=2017.4.17 in /home/felipe/miniconda3/lib/python3.12/site-packages (from requests>=2.9.1->tsfresh) (2025.4.26)\n",
      "Requirement already satisfied: joblib>=1.2.0 in /home/felipe/miniconda3/lib/python3.12/site-packages (from scikit-learn>=0.22.0->tsfresh) (1.4.2)\n",
      "Requirement already satisfied: threadpoolctl>=3.1.0 in /home/felipe/miniconda3/lib/python3.12/site-packages (from scikit-learn>=0.22.0->tsfresh) (3.5.0)\n",
      "Requirement already satisfied: packaging>=21.3 in /home/felipe/.local/lib/python3.12/site-packages (from statsmodels>=0.13->tsfresh) (24.1)\n",
      "Requirement already satisfied: numba>=0.57.1 in /home/felipe/.local/lib/python3.12/site-packages (from stumpy>=1.7.2->tsfresh) (0.60.0)\n",
      "Requirement already satisfied: llvmlite<0.44,>=0.43.0dev0 in /home/felipe/.local/lib/python3.12/site-packages (from numba>=0.57.1->stumpy>=1.7.2->tsfresh) (0.43.0)\n",
      "Requirement already satisfied: six>=1.5 in /home/felipe/.local/lib/python3.12/site-packages (from python-dateutil>=2.8.2->pandas>=0.25.0->tsfresh) (1.16.0)\n",
      "Downloading tsfresh-0.21.0-py2.py3-none-any.whl (96 kB)\n",
      "Downloading stumpy-1.13.0-py3-none-any.whl (176 kB)\n",
      "Downloading cloudpickle-3.1.1-py3-none-any.whl (20 kB)\n",
      "Installing collected packages: cloudpickle, stumpy, tsfresh\n",
      "Successfully installed cloudpickle-3.1.1 stumpy-1.13.0 tsfresh-0.21.0\n",
      "Note: you may need to restart the kernel to use updated packages.\n"
     ]
    }
   ],
   "source": [
    "pip install tsfresh"
   ]
  },
  {
   "cell_type": "code",
   "execution_count": 5,
   "metadata": {
    "variables": {
     "import datetime;import locale;locale.setlocale(locale.LC_ALL, 'portuguese_brazil');datetime.date.today().strftime('%d de %B de %Y')": "05 de agosto de 2018"
    }
   },
   "outputs": [],
   "source": [
    "import pandas as pd\n",
    "import numpy as np\n",
    "import seaborn as sns\n",
    "import logging\n",
    "import warnings\n",
    "import sys\n",
    "sys.path.append('stac')\n",
    "# import nonparametric_tests as stac\n",
    "from matplotlib import pyplot as plt\n",
    "from time import time\n",
    "from pathlib import Path\n",
    "from tsfresh.feature_extraction import extract_features\n",
    "from tsfresh.utilities.dataframe_functions import impute\n",
    "from tsfresh.feature_extraction import MinimalFCParameters\n",
    "from sklearn.tree import DecisionTreeClassifier\n",
    "from sklearn.ensemble import AdaBoostClassifier\n",
    "from sklearn.ensemble import RandomForestClassifier\n",
    "from sklearn.ensemble import GradientBoostingClassifier\n",
    "from sklearn import preprocessing\n",
    "from sklearn.metrics import precision_recall_fscore_support\n",
    "from statsmodels.stats.multicomp import (pairwise_tukeyhsd, MultiComparison)"
   ]
  },
  {
   "cell_type": "code",
   "execution_count": 6,
   "metadata": {
    "variables": {
     "import datetime;import locale;locale.setlocale(locale.LC_ALL, 'portuguese_brazil');datetime.date.today().strftime('%d de %B de %Y')": "05 de agosto de 2018"
    }
   },
   "outputs": [],
   "source": [
    "logging.getLogger('tsfresh').setLevel(logging.ERROR)\n",
    "warnings.simplefilter(action='ignore')"
   ]
  },
  {
   "cell_type": "code",
   "execution_count": 7,
   "metadata": {
    "variables": {
     "import datetime;import locale;locale.setlocale(locale.LC_ALL, 'portuguese_brazil');datetime.date.today().strftime('%d de %B de %Y')": "05 de agosto de 2018"
    }
   },
   "outputs": [],
   "source": [
    "%matplotlib inline\n",
    "%config InlineBackend.figure_format = 'png'"
   ]
  },
  {
   "cell_type": "code",
   "execution_count": 21,
   "metadata": {},
   "outputs": [],
   "source": [
    "data_path = Path('data')\n",
    "random_state = 1\n",
    "n_jobs = None\n",
    "clfs = {'Decision Tree':     DecisionTreeClassifier(random_state=random_state),\n",
    "        'AdaBoost':          AdaBoostClassifier(random_state=random_state),\n",
    "        'Random Forest':     RandomForestClassifier(n_jobs=n_jobs, random_state=random_state),\n",
    "        'Gradient Boosting': GradientBoostingClassifier(random_state=random_state)\n",
    "        }\n",
    "events_names = {0: 'Normal',\n",
    "                1: 'Abrupt Increase of BSW',\n",
    "                2: 'Spurious Closure of DHSV',\n",
    "                3: 'Severe Slugging',\n",
    "                4: 'Flow Instability',\n",
    "                5: 'Rapid Productivity Loss',\n",
    "                6: 'Quick Restriction in PCK',\n",
    "                7: 'Scaling in PCK',\n",
    "                8: 'Hydrate in Production Line'\n",
    "               }\n",
    "vars = ['P-PDG',\n",
    "        'P-TPT',\n",
    "        'T-TPT',\n",
    "        'P-MON-CKP',\n",
    "        'T-JUS-CKP',\n",
    "        'P-JUS-CKGL',\n",
    "        'T-JUS-CKGL',\n",
    "        'QGL']\n",
    "columns = ['timestamp'] + vars + ['class']\n",
    "normal_class_code = 0\n",
    "undesirable_event_code = 1      # Undesirable event of interest\n",
    "downsample_rate = 60            # Adjusts frequency of sampling to the dynamics \n",
    "                                # of the undesirable event of interest\n",
    "sample_size_default = 60        # In observations (after downsample)\n",
    "sample_size_normal_period = 5   # In observations (after downsample)\n",
    "max_samples_per_period = 15     # Limitation for safety\n",
    "df_fc_p = MinimalFCParameters() # See tsfresh's documentation\n",
    "df_fc_p.pop('sum_values')       # Excludes inappropriate feature\n",
    "df_fc_p.pop('length')           # Excludes inappropriate feature\n",
    "max_nan_percent = 0.1           # For selection of useful variables\n",
    "std_vars_min = 0.01             # For selection of useful variables\n",
    "disable_progressbar = True      # For less output"
   ]
  },
  {
   "cell_type": "code",
   "execution_count": 22,
   "metadata": {},
   "outputs": [],
   "source": [
    "def class_and_file_generator(data_path, real=False, simulated=False, drawn=False):\n",
    "    for class_path in data_path.iterdir():\n",
    "        if class_path.is_dir():\n",
    "            class_code = int(class_path.stem)\n",
    "            for instance_path in class_path.iterdir():\n",
    "                if (instance_path.suffix == '.csv'):\n",
    "                    if (simulated and instance_path.stem.startswith('SIMULATED')) or \\\n",
    "                       (drawn and instance_path.stem.startswith('DRAWN')) or \\\n",
    "                       (real and (not instance_path.stem.startswith('SIMULATED')) and \\\n",
    "                       (not instance_path.stem.startswith('DRAWN'))):\n",
    "                        yield class_code, instance_path"
   ]
  },
  {
   "cell_type": "code",
   "execution_count": 23,
   "metadata": {},
   "outputs": [],
   "source": [
    "def get_instances_with_undesirable_event(data_path, undesirable_event_code,\n",
    "                                         real, simulated, drawn):\n",
    "    instances = pd.DataFrame(class_and_file_generator(data_path,\n",
    "                                                      real=real,\n",
    "                                                      simulated=simulated, \n",
    "                                                      drawn=drawn),\n",
    "                             columns=['class_code', 'instance_path'])\n",
    "    idx = instances['class_code'] == undesirable_event_code\n",
    "    return instances.loc[idx].reset_index(drop=True)"
   ]
  },
  {
   "cell_type": "code",
   "execution_count": 24,
   "metadata": {},
   "outputs": [],
   "source": [
    "def load_instance(instance_path):\n",
    "    try:\n",
    "        well, instance_id = instance_path.stem.split('_')\n",
    "        df = pd.read_csv(instance_path, sep=',', header=0)\n",
    "        assert (df.columns == columns).all(), 'invalid columns in the file {}: {}'\\\n",
    "            .format(str(instance_path), str(df.columns.tolist()))\n",
    "        return df\n",
    "    except Exception as e:\n",
    "        raise Exception('error reading file {}: {}'.format(instance_path, e))"
   ]
  },
  {
   "cell_type": "code",
   "execution_count": 25,
   "metadata": {},
   "outputs": [],
   "source": [
    "def load_and_downsample_instances(instances, downsample_rate, source, instance_id):\n",
    "    df_instances = pd.DataFrame()\n",
    "    for _, row in instances.iterrows():\n",
    "        _, instance_path = row\n",
    "        df = load_instance(instance_path).iloc[::downsample_rate, :]\n",
    "        df['instance_id'] = instance_id\n",
    "        instance_id += 1\n",
    "        df_instances = pd.concat([df_instances, df])\n",
    "    df_instances['source'] = source\n",
    "    return df_instances.reset_index(drop=True), instance_id"
   ]
  },
  {
   "cell_type": "code",
   "execution_count": 26,
   "metadata": {},
   "outputs": [],
   "source": [
    "def extract_samples_train(df, df_samples_train, df_y_train, sample_id):\n",
    "    instance = df['instance_id'].iloc[0]\n",
    "    f_idxs = []\n",
    "    l_idxs = []\n",
    "    \n",
    "    # Gets the observations labels and their unequivocal set\n",
    "    ols = list(df['class'])\n",
    "    set_ols = set()\n",
    "    for ol in ols:\n",
    "        if ol in set_ols or np.isnan(ol):\n",
    "            continue\n",
    "        set_ols.add(int(ol))\n",
    "    \n",
    "    # Discards the source and the observations labels and replaces all nan with \n",
    "    # 0 (tsfresh's requirement)\n",
    "    df_vars = df.drop(['source', 'class'], axis=1).fillna(0)\n",
    "\n",
    "    # Extracts samples from the normal period (if it exists)\n",
    "    #\n",
    "    if normal_class_code in set_ols:\n",
    "        # Gets indexes (first and last) without overlap with other periods\n",
    "        f_idx = ols.index(normal_class_code)\n",
    "        l_idx = len(ols)-1-ols[::-1].index(normal_class_code)\n",
    "\n",
    "        # Defines the proper step and extracts samples\n",
    "        max_samples = l_idx-f_idx+1-sample_size_normal_period\n",
    "        if (max_samples) > 0:  \n",
    "            num_samples = min(max_samples_per_period, max_samples)\n",
    "            if num_samples == max_samples:\n",
    "                step_max = 1 \n",
    "            else:\n",
    "                step_max = (max_samples-1) // (max_samples_per_period-1)\n",
    "            step_wanted = sample_size_normal_period\n",
    "            step = min(step_wanted, step_max)\n",
    "\n",
    "            # Extracts samples\n",
    "            for idx in range(num_samples):\n",
    "                f_idx_c = l_idx-sample_size_normal_period+1-(num_samples-1-idx)*step\n",
    "                l_idx_c = f_idx_c+sample_size_normal_period\n",
    "                f_idxs.append(f_idx_c)\n",
    "                l_idxs.append(l_idx_c)                \n",
    "                #print('{}-{}-{}'.format(idx, f_idx_c, l_idx_c))\n",
    "                df_sample = df_vars.iloc[f_idx_c:l_idx_c, :]\n",
    "                df_sample.insert(loc=0, column='id', value=sample_id)\n",
    "                df_samples_train = df_samples_train.append(df_sample)\n",
    "                df_y_train = df_y_train.append({'instance':instance, \n",
    "                                                'y':normal_class_code},\n",
    "                                               ignore_index=True)\n",
    "                sample_id += 1\n",
    "\n",
    "    # Extracts samples from the transient period (if it exists)\n",
    "    #\n",
    "    transient_code = undesirable_event_code + 100\n",
    "    if transient_code in set_ols:\n",
    "        # Gets indexes (first and last) with possible overlap at the beginning \n",
    "        # of this period\n",
    "        f_idx = ols.index(transient_code)\n",
    "        if f_idx-(sample_size_default-1) > 0:\n",
    "            f_idx = f_idx-(sample_size_default-1)\n",
    "        else:\n",
    "            f_idx = 0\n",
    "        l_idx = len(ols)-1-ols[::-1].index(transient_code)        \n",
    "    \n",
    "        # Defines the proper step and extracts samples\n",
    "        max_samples = l_idx-f_idx+1-sample_size_default\n",
    "        if (max_samples) > 0:\n",
    "            num_samples = min(max_samples_per_period, max_samples)\n",
    "            if num_samples == max_samples:\n",
    "                step_max = 1 \n",
    "            else:\n",
    "                step_max = (max_samples-1) // (max_samples_per_period-1)\n",
    "            step_wanted = np.inf\n",
    "            step = min(step_wanted, step_max)\n",
    "\n",
    "            # Extracts samples\n",
    "            for idx in range(num_samples):\n",
    "                f_idx_c = f_idx+idx*step\n",
    "                l_idx_c = f_idx_c+sample_size_default\n",
    "                f_idxs.append(f_idx_c)\n",
    "                l_idxs.append(l_idx_c)                \n",
    "                #print('{}-{}-{}'.format(idx, f_idx_c, l_idx_c))\n",
    "                df_sample = df_vars.iloc[f_idx_c:l_idx_c, :]\n",
    "                df_sample.insert(loc=0, column='id', value=sample_id)\n",
    "                df_samples_train = df_samples_train.append(df_sample)\n",
    "                df_y_train = df_y_train.append({'instance':instance, \n",
    "                                                'y':transient_code},\n",
    "                                               ignore_index=True)\n",
    "                sample_id += 1\n",
    "    \n",
    "    # Extracts samples from the in-regime period (if it exists)\n",
    "    #\n",
    "    if undesirable_event_code in set_ols:\n",
    "        # Gets indexes (first and last) with possible overlap at the beginning \n",
    "        # or end of this period\n",
    "        f_idx = ols.index(undesirable_event_code)\n",
    "        if f_idx-(sample_size_default-1) > 0:\n",
    "            f_idx = f_idx-(sample_size_default-1)\n",
    "        else:\n",
    "            f_idx = 0\n",
    "        l_idx = len(ols)-1-ols[::-1].index(undesirable_event_code)\n",
    "        if l_idx+(sample_size_default-1) < len(ols)-1:\n",
    "            l_idx = l_idx+(sample_size_default-1) \n",
    "        else:\n",
    "            l_idx = len(ols)-1\n",
    "  \n",
    "        # Defines the proper step and extracts samples\n",
    "        max_samples = l_idx-f_idx+1-sample_size_default\n",
    "        if (max_samples) > 0 :\n",
    "            num_samples = min(max_samples_per_period, max_samples)\n",
    "            if num_samples == max_samples:\n",
    "                step_max = 1 \n",
    "            else:\n",
    "                step_max = (max_samples-1) // (max_samples_per_period-1)\n",
    "            step_wanted = sample_size_default\n",
    "            step = min(step_wanted, step_max)\n",
    "    \n",
    "            # Extracts samples\n",
    "            for idx in range(num_samples):\n",
    "                f_idx_c = f_idx+idx*step\n",
    "                l_idx_c = f_idx_c+sample_size_default\n",
    "                f_idxs.append(f_idx_c)\n",
    "                l_idxs.append(l_idx_c)\n",
    "                #print('{}-{}-{}'.format(idx, f_idx_c, l_idx_c))\n",
    "                df_sample = df_vars.iloc[f_idx_c:l_idx_c, :]\n",
    "                df_sample.insert(loc=0, column='id', value=sample_id)\n",
    "                df_samples_train = df_samples_train.append(df_sample)\n",
    "                df_y_train = df_y_train.append({'instance':instance, \n",
    "                                                'y':undesirable_event_code}, \n",
    "                                               ignore_index=True)\n",
    "                sample_id += 1\n",
    "    \n",
    "    return df_samples_train, df_y_train, sample_id "
   ]
  },
  {
   "cell_type": "code",
   "execution_count": 27,
   "metadata": {},
   "outputs": [],
   "source": [
    "def extract_samples_test(df, df_samples_test, df_y_test, sample_id):\n",
    "    instance = df['instance_id'].iloc[0]\n",
    "    f_idxs = []\n",
    "    l_idxs = []\n",
    "    \n",
    "    # Gets the observations labels\n",
    "    ols = list(df['class'].fillna(method='ffill'))    \n",
    "    \n",
    "    # Discards the source and the observations labels and replaces all nan with \n",
    "    # 0 (tsfresh's requirement)\n",
    "    df_vars = df.drop(['source', 'class'], axis=1).fillna(0)    \n",
    "    \n",
    "    # Extracts samples from the instance as a whole\n",
    "    f_idx = 0\n",
    "    l_idx = len(df)-1  \n",
    "\n",
    "    # Defines the proper step and extracts samples\n",
    "    max_samples = l_idx-f_idx+1-sample_size_default\n",
    "    if (max_samples) > 0:\n",
    "        num_samples = min(3*max_samples_per_period, max_samples)\n",
    "        if num_samples == max_samples:\n",
    "            step_max = 1 \n",
    "        else:\n",
    "            step_max = (max_samples-1) // (3*max_samples_per_period-1)\n",
    "        step_wanted = np.inf\n",
    "        step = min(step_wanted, step_max)\n",
    "\n",
    "        # Extracts samples\n",
    "        for idx in range(num_samples):\n",
    "            f_idx_c = f_idx+idx*step\n",
    "            l_idx_c = f_idx_c+sample_size_default\n",
    "            f_idxs.append(f_idx_c)\n",
    "            l_idxs.append(l_idx_c)                \n",
    "            #print('{}-{}-{}'.format(idx, f_idx_c, l_idx_c))\n",
    "            df_sample = df_vars.iloc[f_idx_c:l_idx_c, :]\n",
    "            df_sample.insert(loc=0, column='id', value=sample_id)\n",
    "            df_samples_test = df_samples_test.append(df_sample)\n",
    "            df_y_test = df_y_test.append({'instance':instance, 'y':ols[l_idx_c]},\n",
    "                                         ignore_index=True)\n",
    "            sample_id += 1\n",
    "            \n",
    "    return df_samples_test, df_y_test, sample_id"
   ]
  },
  {
   "cell_type": "code",
   "execution_count": 28,
   "metadata": {},
   "outputs": [],
   "source": [
    "def train_test_calc_scores(X_train, y_train, X_test, y_test, scores, clfs, scenario):\n",
    "    X_train.reset_index(inplace=True, drop=True)\n",
    "    X_test.reset_index(inplace=True, drop=True)\n",
    "    for clf_name, clf in clfs.items():\n",
    "        try:\n",
    "            # Train\n",
    "            t0 = time()\n",
    "            clf.fit(X_train, y_train)\n",
    "            t_train = time() - t0\n",
    "                \n",
    "            # Test\n",
    "            t0 = time()\n",
    "            y_pred = clf.predict(X_test)\n",
    "            t_test = time() - t0\n",
    "            \n",
    "            # Plots actual and predicted labels\n",
    "            fig = plt.figure(figsize=(12,1))\n",
    "            ax = fig.add_subplot(111)\n",
    "            plt.plot(y_pred, marker=11, color='orange', linestyle='')\n",
    "            plt.plot(y_test, marker=10, color='green', linestyle='')            \n",
    "            ax.grid(False)\n",
    "            ax.set_yticks([0, undesirable_event_code])\n",
    "            ax.set_yticklabels([normal_class_code, undesirable_event_code])\n",
    "            ax.set_title(clf_name)\n",
    "            ax.set_xlabel('Sample')\n",
    "            ax.legend(['Predicted labels', 'Actual labels'])\n",
    "            plt.show()\n",
    "                  \n",
    "            # Calculates the considered scores\n",
    "            ret = precision_recall_fscore_support(y_test, y_pred, average='micro')\n",
    "            p, r, f1, _ = ret\n",
    "            scores = scores.append({'SCENARIO': scenario,\n",
    "                                    'CLASSIFIER': clf_name, \n",
    "                                    'PRECISION': p,\n",
    "                                    'RECALL': r,\n",
    "                                    'F1': f1,\n",
    "                                    'TRAINING[s]': t_train, \n",
    "                                    'TESTING[s]': t_test}, ignore_index=True)\n",
    "                                      \n",
    "        except Exception as e:\n",
    "            print('error in training/testing classifier: {}'.format(e))\n",
    "            scores = scores.append({'SCENARIO': scenario,\n",
    "                                    'CLASSIFIER': clf_name, \n",
    "                                    'PRECISION': np.nan,\n",
    "                                    'RECALL': np.nan,\n",
    "                                    'F1': np.nan,\n",
    "                                    'TRAINING[s]': np.nan, \n",
    "                                    'TESTING[s]': np.nan}, ignore_index=True)\n",
    "            \n",
    "    return scores"
   ]
  },
  {
   "cell_type": "code",
   "execution_count": 33,
   "metadata": {},
   "outputs": [],
   "source": [
    "# Gets all real, simulated and drawn instances but maintains only those with \n",
    "# the specified undesirable event\n",
    "real_instances = get_instances_with_undesirable_event(data_path, \n",
    "                                                      undesirable_event_code,\n",
    "                                                      real=True,\n",
    "                                                      simulated=False, \n",
    "                                                      drawn=False)\n",
    "simul_instances = get_instances_with_undesirable_event(data_path,\n",
    "                                                       undesirable_event_code,\n",
    "                                                       real=False,\n",
    "                                                       simulated=True, \n",
    "                                                       drawn=False)\n",
    "drawn_instances = get_instances_with_undesirable_event(data_path,\n",
    "                                                       undesirable_event_code,\n",
    "                                                       real=False,\n",
    "                                                       simulated=False, \n",
    "                                                       drawn=True)"
   ]
  },
  {
   "cell_type": "code",
   "execution_count": 35,
   "metadata": {},
   "outputs": [],
   "source": [
    "# Loads all real, simulated and drawn instances and applies downsample\n",
    "instance_id = 0\n",
    "df_real_instances, instance_id  = load_and_downsample_instances(real_instances,\n",
    "                                                                downsample_rate,\n",
    "                                                                'real', \n",
    "                                                                instance_id)\n",
    "df_simul_instances, instance_id = load_and_downsample_instances(simul_instances, \n",
    "                                                                downsample_rate,\n",
    "                                                                'simulated', \n",
    "                                                                instance_id)\n",
    "df_drawn_instances, instance_id = load_and_downsample_instances(drawn_instances,\n",
    "                                                                downsample_rate,\n",
    "                                                                'drawn', \n",
    "                                                                instance_id)\n",
    "df_instances = pd.concat([df_real_instances, df_simul_instances, df_drawn_instances])"
   ]
  },
  {
   "cell_type": "code",
   "execution_count": 37,
   "metadata": {},
   "outputs": [
    {
     "data": {
      "text/html": [
       "<div>\n",
       "<style scoped>\n",
       "    .dataframe tbody tr th:only-of-type {\n",
       "        vertical-align: middle;\n",
       "    }\n",
       "\n",
       "    .dataframe tbody tr th {\n",
       "        vertical-align: top;\n",
       "    }\n",
       "\n",
       "    .dataframe thead th {\n",
       "        text-align: right;\n",
       "    }\n",
       "</style>\n",
       "<table border=\"1\" class=\"dataframe\">\n",
       "  <thead>\n",
       "    <tr style=\"text-align: right;\">\n",
       "      <th></th>\n",
       "      <th>timestamp</th>\n",
       "      <th>P-PDG</th>\n",
       "      <th>P-TPT</th>\n",
       "      <th>T-TPT</th>\n",
       "      <th>P-MON-CKP</th>\n",
       "      <th>T-JUS-CKP</th>\n",
       "      <th>P-JUS-CKGL</th>\n",
       "      <th>T-JUS-CKGL</th>\n",
       "      <th>QGL</th>\n",
       "      <th>class</th>\n",
       "      <th>instance_id</th>\n",
       "      <th>source</th>\n",
       "    </tr>\n",
       "  </thead>\n",
       "  <tbody>\n",
       "    <tr>\n",
       "      <th>0</th>\n",
       "      <td>2014-01-26 20:00:50.000000</td>\n",
       "      <td>0.0</td>\n",
       "      <td>17144370.0</td>\n",
       "      <td>117.4676</td>\n",
       "      <td>8157933.0</td>\n",
       "      <td>173.09610</td>\n",
       "      <td>4600253.0</td>\n",
       "      <td>NaN</td>\n",
       "      <td>0.0</td>\n",
       "      <td>0.0</td>\n",
       "      <td>0</td>\n",
       "      <td>real</td>\n",
       "    </tr>\n",
       "    <tr>\n",
       "      <th>1</th>\n",
       "      <td>2014-01-26 20:01:50.000000</td>\n",
       "      <td>0.0</td>\n",
       "      <td>17146550.0</td>\n",
       "      <td>117.4621</td>\n",
       "      <td>8159754.0</td>\n",
       "      <td>173.09610</td>\n",
       "      <td>4598486.0</td>\n",
       "      <td>NaN</td>\n",
       "      <td>0.0</td>\n",
       "      <td>0.0</td>\n",
       "      <td>0</td>\n",
       "      <td>real</td>\n",
       "    </tr>\n",
       "    <tr>\n",
       "      <th>2</th>\n",
       "      <td>2014-01-26 20:02:50.000000</td>\n",
       "      <td>0.0</td>\n",
       "      <td>17148730.0</td>\n",
       "      <td>117.4597</td>\n",
       "      <td>8161575.0</td>\n",
       "      <td>173.09610</td>\n",
       "      <td>4596719.0</td>\n",
       "      <td>NaN</td>\n",
       "      <td>0.0</td>\n",
       "      <td>0.0</td>\n",
       "      <td>0</td>\n",
       "      <td>real</td>\n",
       "    </tr>\n",
       "    <tr>\n",
       "      <th>3</th>\n",
       "      <td>2014-01-26 20:03:50.000000</td>\n",
       "      <td>0.0</td>\n",
       "      <td>17150900.0</td>\n",
       "      <td>117.4695</td>\n",
       "      <td>8163397.0</td>\n",
       "      <td>173.09610</td>\n",
       "      <td>4594952.0</td>\n",
       "      <td>NaN</td>\n",
       "      <td>0.0</td>\n",
       "      <td>0.0</td>\n",
       "      <td>0</td>\n",
       "      <td>real</td>\n",
       "    </tr>\n",
       "    <tr>\n",
       "      <th>4</th>\n",
       "      <td>2014-01-26 20:04:50.000000</td>\n",
       "      <td>0.0</td>\n",
       "      <td>17153080.0</td>\n",
       "      <td>117.4792</td>\n",
       "      <td>8165218.0</td>\n",
       "      <td>173.09610</td>\n",
       "      <td>4593185.0</td>\n",
       "      <td>NaN</td>\n",
       "      <td>0.0</td>\n",
       "      <td>0.0</td>\n",
       "      <td>0</td>\n",
       "      <td>real</td>\n",
       "    </tr>\n",
       "    <tr>\n",
       "      <th>...</th>\n",
       "      <td>...</td>\n",
       "      <td>...</td>\n",
       "      <td>...</td>\n",
       "      <td>...</td>\n",
       "      <td>...</td>\n",
       "      <td>...</td>\n",
       "      <td>...</td>\n",
       "      <td>...</td>\n",
       "      <td>...</td>\n",
       "      <td>...</td>\n",
       "      <td>...</td>\n",
       "      <td>...</td>\n",
       "    </tr>\n",
       "    <tr>\n",
       "      <th>1969</th>\n",
       "      <td>2017-08-02 20:23:00.000000</td>\n",
       "      <td>44858050.0</td>\n",
       "      <td>17972780.0</td>\n",
       "      <td>119.3892</td>\n",
       "      <td>2332836.0</td>\n",
       "      <td>81.80574</td>\n",
       "      <td>1331420.0</td>\n",
       "      <td>NaN</td>\n",
       "      <td>0.0</td>\n",
       "      <td>1.0</td>\n",
       "      <td>4</td>\n",
       "      <td>real</td>\n",
       "    </tr>\n",
       "    <tr>\n",
       "      <th>1970</th>\n",
       "      <td>2017-08-02 20:24:00.000000</td>\n",
       "      <td>44858050.0</td>\n",
       "      <td>17969250.0</td>\n",
       "      <td>119.3814</td>\n",
       "      <td>2407979.0</td>\n",
       "      <td>81.77979</td>\n",
       "      <td>1331451.0</td>\n",
       "      <td>NaN</td>\n",
       "      <td>0.0</td>\n",
       "      <td>1.0</td>\n",
       "      <td>4</td>\n",
       "      <td>real</td>\n",
       "    </tr>\n",
       "    <tr>\n",
       "      <th>1971</th>\n",
       "      <td>2017-08-02 20:25:00.000000</td>\n",
       "      <td>44858050.0</td>\n",
       "      <td>17953880.0</td>\n",
       "      <td>119.3736</td>\n",
       "      <td>2393367.0</td>\n",
       "      <td>81.75383</td>\n",
       "      <td>1331481.0</td>\n",
       "      <td>NaN</td>\n",
       "      <td>0.0</td>\n",
       "      <td>1.0</td>\n",
       "      <td>4</td>\n",
       "      <td>real</td>\n",
       "    </tr>\n",
       "    <tr>\n",
       "      <th>1972</th>\n",
       "      <td>2017-08-02 20:26:00.000000</td>\n",
       "      <td>30854380.0</td>\n",
       "      <td>17951090.0</td>\n",
       "      <td>119.4017</td>\n",
       "      <td>2378755.0</td>\n",
       "      <td>81.72787</td>\n",
       "      <td>1331511.0</td>\n",
       "      <td>NaN</td>\n",
       "      <td>0.0</td>\n",
       "      <td>1.0</td>\n",
       "      <td>4</td>\n",
       "      <td>real</td>\n",
       "    </tr>\n",
       "    <tr>\n",
       "      <th>1973</th>\n",
       "      <td>2017-08-02 20:27:00.000000</td>\n",
       "      <td>12588720.0</td>\n",
       "      <td>17948310.0</td>\n",
       "      <td>119.3809</td>\n",
       "      <td>2364143.0</td>\n",
       "      <td>81.70192</td>\n",
       "      <td>1331541.0</td>\n",
       "      <td>NaN</td>\n",
       "      <td>0.0</td>\n",
       "      <td>1.0</td>\n",
       "      <td>4</td>\n",
       "      <td>real</td>\n",
       "    </tr>\n",
       "  </tbody>\n",
       "</table>\n",
       "<p>1974 rows × 12 columns</p>\n",
       "</div>"
      ],
      "text/plain": [
       "                       timestamp       P-PDG       P-TPT     T-TPT  P-MON-CKP  \\\n",
       "0     2014-01-26 20:00:50.000000         0.0  17144370.0  117.4676  8157933.0   \n",
       "1     2014-01-26 20:01:50.000000         0.0  17146550.0  117.4621  8159754.0   \n",
       "2     2014-01-26 20:02:50.000000         0.0  17148730.0  117.4597  8161575.0   \n",
       "3     2014-01-26 20:03:50.000000         0.0  17150900.0  117.4695  8163397.0   \n",
       "4     2014-01-26 20:04:50.000000         0.0  17153080.0  117.4792  8165218.0   \n",
       "...                          ...         ...         ...       ...        ...   \n",
       "1969  2017-08-02 20:23:00.000000  44858050.0  17972780.0  119.3892  2332836.0   \n",
       "1970  2017-08-02 20:24:00.000000  44858050.0  17969250.0  119.3814  2407979.0   \n",
       "1971  2017-08-02 20:25:00.000000  44858050.0  17953880.0  119.3736  2393367.0   \n",
       "1972  2017-08-02 20:26:00.000000  30854380.0  17951090.0  119.4017  2378755.0   \n",
       "1973  2017-08-02 20:27:00.000000  12588720.0  17948310.0  119.3809  2364143.0   \n",
       "\n",
       "      T-JUS-CKP  P-JUS-CKGL  T-JUS-CKGL  QGL  class  instance_id source  \n",
       "0     173.09610   4600253.0         NaN  0.0    0.0            0   real  \n",
       "1     173.09610   4598486.0         NaN  0.0    0.0            0   real  \n",
       "2     173.09610   4596719.0         NaN  0.0    0.0            0   real  \n",
       "3     173.09610   4594952.0         NaN  0.0    0.0            0   real  \n",
       "4     173.09610   4593185.0         NaN  0.0    0.0            0   real  \n",
       "...         ...         ...         ...  ...    ...          ...    ...  \n",
       "1969   81.80574   1331420.0         NaN  0.0    1.0            4   real  \n",
       "1970   81.77979   1331451.0         NaN  0.0    1.0            4   real  \n",
       "1971   81.75383   1331481.0         NaN  0.0    1.0            4   real  \n",
       "1972   81.72787   1331511.0         NaN  0.0    1.0            4   real  \n",
       "1973   81.70192   1331541.0         NaN  0.0    1.0            4   real  \n",
       "\n",
       "[1974 rows x 12 columns]"
      ]
     },
     "execution_count": 37,
     "metadata": {},
     "output_type": "execute_result"
    }
   ],
   "source": [
    "df_real_instances"
   ]
  },
  {
   "cell_type": "code",
   "execution_count": 38,
   "metadata": {},
   "outputs": [
    {
     "name": "stdout",
     "output_type": "stream",
     "text": [
      "current testing instance: 0\n",
      "\tscenario 1 -> training with real {1, 2, 3, 4} +  instances\n"
     ]
    },
    {
     "ename": "AttributeError",
     "evalue": "'DataFrame' object has no attribute 'append'",
     "output_type": "error",
     "traceback": [
      "\u001b[0;31m---------------------------------------------------------------------------\u001b[0m",
      "\u001b[0;31mAttributeError\u001b[0m                            Traceback (most recent call last)",
      "\u001b[0;32m/tmp/ipykernel_2354175/215303731.py\u001b[0m in \u001b[0;36m?\u001b[0;34m()\u001b[0m\n\u001b[1;32m     60\u001b[0m         \u001b[0;31m# Extracts samples from each training instance\u001b[0m\u001b[0;34m\u001b[0m\u001b[0;34m\u001b[0m\u001b[0m\n\u001b[1;32m     61\u001b[0m         \u001b[0;32mfor\u001b[0m \u001b[0minstance\u001b[0m \u001b[0;32min\u001b[0m \u001b[0mset\u001b[0m\u001b[0;34m(\u001b[0m\u001b[0mdf_instances_train\u001b[0m\u001b[0;34m[\u001b[0m\u001b[0;34m'instance_id'\u001b[0m\u001b[0;34m]\u001b[0m\u001b[0;34m)\u001b[0m\u001b[0;34m:\u001b[0m\u001b[0;34m\u001b[0m\u001b[0;34m\u001b[0m\u001b[0m\n\u001b[1;32m     62\u001b[0m             \u001b[0;31m#print('extracting samples from instance {}'.format(instance))\u001b[0m\u001b[0;34m\u001b[0m\u001b[0;34m\u001b[0m\u001b[0m\n\u001b[1;32m     63\u001b[0m             \u001b[0mdf\u001b[0m \u001b[0;34m=\u001b[0m \u001b[0mdf_instances_train\u001b[0m\u001b[0;34m.\u001b[0m\u001b[0mloc\u001b[0m\u001b[0;34m[\u001b[0m\u001b[0mdf_instances_train\u001b[0m\u001b[0;34m[\u001b[0m\u001b[0;34m'instance_id'\u001b[0m\u001b[0;34m]\u001b[0m\u001b[0;34m==\u001b[0m\u001b[0minstance\u001b[0m\u001b[0;34m]\u001b[0m\u001b[0;34m\u001b[0m\u001b[0;34m\u001b[0m\u001b[0m\n\u001b[0;32m---> 64\u001b[0;31m             \u001b[0mret\u001b[0m \u001b[0;34m=\u001b[0m \u001b[0mextract_samples_train\u001b[0m\u001b[0;34m(\u001b[0m\u001b[0mdf\u001b[0m\u001b[0;34m,\u001b[0m \u001b[0mdf_samples_train\u001b[0m\u001b[0;34m,\u001b[0m \u001b[0mdf_y_train\u001b[0m\u001b[0;34m,\u001b[0m \u001b[0msample_id\u001b[0m\u001b[0;34m)\u001b[0m\u001b[0;34m\u001b[0m\u001b[0;34m\u001b[0m\u001b[0m\n\u001b[0m\u001b[1;32m     65\u001b[0m             \u001b[0mdf_samples_train\u001b[0m\u001b[0;34m,\u001b[0m \u001b[0mdf_y_train\u001b[0m\u001b[0;34m,\u001b[0m \u001b[0msample_id\u001b[0m \u001b[0;34m=\u001b[0m \u001b[0mret\u001b[0m\u001b[0;34m\u001b[0m\u001b[0;34m\u001b[0m\u001b[0m\n\u001b[1;32m     66\u001b[0m \u001b[0;34m\u001b[0m\u001b[0m\n\u001b[1;32m     67\u001b[0m         \u001b[0;31m# Extracts samples from the testing instance\u001b[0m\u001b[0;34m\u001b[0m\u001b[0;34m\u001b[0m\u001b[0m\n",
      "\u001b[0;32m/tmp/ipykernel_2354175/3308137562.py\u001b[0m in \u001b[0;36m?\u001b[0;34m(df, df_samples_train, df_y_train, sample_id)\u001b[0m\n\u001b[1;32m     41\u001b[0m                 \u001b[0ml_idxs\u001b[0m\u001b[0;34m.\u001b[0m\u001b[0mappend\u001b[0m\u001b[0;34m(\u001b[0m\u001b[0ml_idx_c\u001b[0m\u001b[0;34m)\u001b[0m\u001b[0;34m\u001b[0m\u001b[0;34m\u001b[0m\u001b[0m\n\u001b[1;32m     42\u001b[0m                 \u001b[0;31m#print('{}-{}-{}'.format(idx, f_idx_c, l_idx_c))\u001b[0m\u001b[0;34m\u001b[0m\u001b[0;34m\u001b[0m\u001b[0m\n\u001b[1;32m     43\u001b[0m                 \u001b[0mdf_sample\u001b[0m \u001b[0;34m=\u001b[0m \u001b[0mdf_vars\u001b[0m\u001b[0;34m.\u001b[0m\u001b[0miloc\u001b[0m\u001b[0;34m[\u001b[0m\u001b[0mf_idx_c\u001b[0m\u001b[0;34m:\u001b[0m\u001b[0ml_idx_c\u001b[0m\u001b[0;34m,\u001b[0m \u001b[0;34m:\u001b[0m\u001b[0;34m]\u001b[0m\u001b[0;34m\u001b[0m\u001b[0;34m\u001b[0m\u001b[0m\n\u001b[1;32m     44\u001b[0m                 \u001b[0mdf_sample\u001b[0m\u001b[0;34m.\u001b[0m\u001b[0minsert\u001b[0m\u001b[0;34m(\u001b[0m\u001b[0mloc\u001b[0m\u001b[0;34m=\u001b[0m\u001b[0;36m0\u001b[0m\u001b[0;34m,\u001b[0m \u001b[0mcolumn\u001b[0m\u001b[0;34m=\u001b[0m\u001b[0;34m'id'\u001b[0m\u001b[0;34m,\u001b[0m \u001b[0mvalue\u001b[0m\u001b[0;34m=\u001b[0m\u001b[0msample_id\u001b[0m\u001b[0;34m)\u001b[0m\u001b[0;34m\u001b[0m\u001b[0;34m\u001b[0m\u001b[0m\n\u001b[0;32m---> 45\u001b[0;31m                 \u001b[0mdf_samples_train\u001b[0m \u001b[0;34m=\u001b[0m \u001b[0mdf_samples_train\u001b[0m\u001b[0;34m.\u001b[0m\u001b[0mappend\u001b[0m\u001b[0;34m(\u001b[0m\u001b[0mdf_sample\u001b[0m\u001b[0;34m)\u001b[0m\u001b[0;34m\u001b[0m\u001b[0;34m\u001b[0m\u001b[0m\n\u001b[0m\u001b[1;32m     46\u001b[0m                 df_y_train = df_y_train.append({'instance':instance, \n\u001b[1;32m     47\u001b[0m                                                 \u001b[0;34m'y'\u001b[0m\u001b[0;34m:\u001b[0m\u001b[0mnormal_class_code\u001b[0m\u001b[0;34m}\u001b[0m\u001b[0;34m,\u001b[0m\u001b[0;34m\u001b[0m\u001b[0;34m\u001b[0m\u001b[0m\n\u001b[1;32m     48\u001b[0m                                                \u001b[0mignore_index\u001b[0m\u001b[0;34m=\u001b[0m\u001b[0;32mTrue\u001b[0m\u001b[0;34m)\u001b[0m\u001b[0;34m\u001b[0m\u001b[0;34m\u001b[0m\u001b[0m\n",
      "\u001b[0;32m~/.local/lib/python3.12/site-packages/pandas/core/generic.py\u001b[0m in \u001b[0;36m?\u001b[0;34m(self, name)\u001b[0m\n\u001b[1;32m   6295\u001b[0m             \u001b[0;32mand\u001b[0m \u001b[0mname\u001b[0m \u001b[0;32mnot\u001b[0m \u001b[0;32min\u001b[0m \u001b[0mself\u001b[0m\u001b[0;34m.\u001b[0m\u001b[0m_accessors\u001b[0m\u001b[0;34m\u001b[0m\u001b[0;34m\u001b[0m\u001b[0m\n\u001b[1;32m   6296\u001b[0m             \u001b[0;32mand\u001b[0m \u001b[0mself\u001b[0m\u001b[0;34m.\u001b[0m\u001b[0m_info_axis\u001b[0m\u001b[0;34m.\u001b[0m\u001b[0m_can_hold_identifiers_and_holds_name\u001b[0m\u001b[0;34m(\u001b[0m\u001b[0mname\u001b[0m\u001b[0;34m)\u001b[0m\u001b[0;34m\u001b[0m\u001b[0;34m\u001b[0m\u001b[0m\n\u001b[1;32m   6297\u001b[0m         \u001b[0;34m)\u001b[0m\u001b[0;34m:\u001b[0m\u001b[0;34m\u001b[0m\u001b[0;34m\u001b[0m\u001b[0m\n\u001b[1;32m   6298\u001b[0m             \u001b[0;32mreturn\u001b[0m \u001b[0mself\u001b[0m\u001b[0;34m[\u001b[0m\u001b[0mname\u001b[0m\u001b[0;34m]\u001b[0m\u001b[0;34m\u001b[0m\u001b[0;34m\u001b[0m\u001b[0m\n\u001b[0;32m-> 6299\u001b[0;31m         \u001b[0;32mreturn\u001b[0m \u001b[0mobject\u001b[0m\u001b[0;34m.\u001b[0m\u001b[0m__getattribute__\u001b[0m\u001b[0;34m(\u001b[0m\u001b[0mself\u001b[0m\u001b[0;34m,\u001b[0m \u001b[0mname\u001b[0m\u001b[0;34m)\u001b[0m\u001b[0;34m\u001b[0m\u001b[0;34m\u001b[0m\u001b[0m\n\u001b[0m",
      "\u001b[0;31mAttributeError\u001b[0m: 'DataFrame' object has no attribute 'append'"
     ]
    }
   ],
   "source": [
    "# For each round of a cross-validation with the 'leave one instance out' schema\n",
    "cols = ['SCENARIO', 'CLASSIFIER', 'F1', 'PRECISION', 'RECALL', 'TRAINING[s]', 'TESTING[s]']\n",
    "scores = pd.DataFrame(columns=cols)\n",
    "scores['SCENARIO'] = scores['SCENARIO'].astype(int)\n",
    "add_real = [True, False, False, True, True, False, True]\n",
    "add_source = {0: [],\n",
    "              1: ['simulated'],\n",
    "              2: ['drawn'],\n",
    "              3: ['simulated'],\n",
    "              4: ['drawn'],\n",
    "              5: ['simulated', 'drawn'],\n",
    "              6: ['simulated', 'drawn']}\n",
    "added_source = ['', \n",
    "                'simulated', \n",
    "                'drawn', \n",
    "                'simulated', \n",
    "                'drawn',\n",
    "                'simulated + drawn',\n",
    "                'simulated + drawn']\n",
    "scaler = preprocessing.StandardScaler()\n",
    "for train_i, test_i in loio(len(real_instances)):\n",
    "    print('current testing instance: {}'.format(list(test_i)[0]))\n",
    "\n",
    "    # Drops the bad vars\n",
    "    idxs = (df_instances['source']=='real') & (df_instances['instance_id'].isin(train_i))\n",
    "    good_vars = np.isnan(df_instances.loc[idxs][vars]).mean(0) <= max_nan_percent\n",
    "    std_vars = np.nanstd(df_instances.loc[idxs][vars], 0)\n",
    "    good_vars &= (std_vars > std_vars_min)    \n",
    "    good_vars = list(good_vars.index[good_vars])\n",
    "    bad_vars = list(set(vars)-set(good_vars))\n",
    "    df_instances_good_vars = df_instances.drop(columns=bad_vars, errors='ignore')\n",
    "    \n",
    "    # For each considered scenario\n",
    "    for s in range(len(add_source)):\n",
    "        idxs_test = (df_instances_good_vars['source']=='real') & \\\n",
    "                    (df_instances_good_vars['instance_id'].isin(test_i))\n",
    "        if add_real[s]:\n",
    "            print('\\tscenario {} -> training with real {} + {} instances'.format(s+1, train_i, added_source[s]))\n",
    "            idxs_train = (df_instances_good_vars['source']=='real') & \\\n",
    "                         (df_instances_good_vars['instance_id'].isin(train_i))\n",
    "        else:\n",
    "            print('\\tscenario {} -> training with {} instances'.format(s+1, added_source[s]))\n",
    "            idxs_train = df_instances_good_vars['source'].isin(['NoSource']) # Series with only False itens\n",
    "        idxs_train |= df_instances_good_vars['source'].isin(add_source[s])\n",
    "        #print('# observations in idxs_test: {}'.format(sum(idxs_test)))\n",
    "        #print('# observations in idxs_train: {}'.format(sum(idxs_train)))\n",
    "\n",
    "        df_instances_test  = df_instances_good_vars.loc[idxs_test].reset_index(drop=True)\n",
    "        df_instances_train = df_instances_good_vars.loc[idxs_train].reset_index(drop=True)\n",
    "        \n",
    "        df_instances_train[good_vars] = scaler.fit_transform(df_instances_train[good_vars])\n",
    "        df_instances_test[good_vars] = scaler.transform(df_instances_test[good_vars])\n",
    "        \n",
    "        df_samples_train = pd.DataFrame()\n",
    "        df_samples_test  = pd.DataFrame()\n",
    "        df_y_train = pd.DataFrame()\n",
    "        df_y_test  = pd.DataFrame()\n",
    "        sample_id = 0\n",
    "        \n",
    "        # Extracts samples from each training instance\n",
    "        for instance in set(df_instances_train['instance_id']):\n",
    "            #print('extracting samples from instance {}'.format(instance))            \n",
    "            df = df_instances_train.loc[df_instances_train['instance_id']==instance]\n",
    "            ret = extract_samples_train(df, df_samples_train, df_y_train, sample_id)\n",
    "            df_samples_train, df_y_train, sample_id = ret\n",
    "\n",
    "        # Extracts samples from the testing instance            \n",
    "        ret = extract_samples_test(df_instances_test, df_samples_test, df_y_test, sample_id)\n",
    "        df_samples_test, df_y_test, sample_id = ret\n",
    "        \n",
    "        # Drops the unnecessary columns\n",
    "        df_samples_train = df_samples_train.drop(['instance_id'], axis=1)\n",
    "        df_samples_test  = df_samples_test.drop(['instance_id'], axis=1)\n",
    "        \n",
    "        # Changes types of the good vars to avoid problems with inf\n",
    "        df_samples_train[good_vars] = df_samples_train[good_vars].astype('float32')\n",
    "        df_samples_test[good_vars]  = df_samples_test[good_vars].astype('float32')\n",
    "                \n",
    "        # Changes types of the labels (tsfresh's requirement)\n",
    "        y_train = np.array(df_y_train['y'], dtype=int)\n",
    "        y_test  = np.array(df_y_test['y'], dtype=int)\n",
    "        \n",
    "        # Groups the transient and the in-regime periods as undesirable event\n",
    "        y_train[y_train==100+undesirable_event_code] = undesirable_event_code\n",
    "        y_test[y_test  ==100+undesirable_event_code] = undesirable_event_code\n",
    "        \n",
    "        # Extracts features from samples\n",
    "        X_train = extract_features(df_samples_train, \n",
    "                                   column_id='id', \n",
    "                                   column_sort='timestamp', \n",
    "                                   default_fc_parameters=df_fc_p,\n",
    "                                   impute_function=impute,\n",
    "                                   n_jobs=0,\n",
    "                                   disable_progressbar=disable_progressbar)\n",
    "        X_train = X_train.reset_index(drop=True)\n",
    "        X_test = extract_features(df_samples_test, \n",
    "                                  column_id='id', \n",
    "                                  column_sort='timestamp',\n",
    "                                  default_fc_parameters=df_fc_p,\n",
    "                                  impute_function=impute,\n",
    "                                  n_jobs=0,\n",
    "                                  disable_progressbar=disable_progressbar)\n",
    "        X_test = X_test.reset_index(drop=True) \n",
    "        \n",
    "        # Trains, tests and calculates the scores\n",
    "        scores = train_test_calc_scores(X_train, y_train, X_test, y_test, scores, clfs, s+1) "
   ]
  },
  {
   "cell_type": "markdown",
   "metadata": {},
   "source": [
    "# 3. Results"
   ]
  },
  {
   "cell_type": "markdown",
   "metadata": {},
   "source": [
    "The results obtained with the implemented method are presented below."
   ]
  },
  {
   "cell_type": "code",
   "execution_count": 16,
   "metadata": {},
   "outputs": [
    {
     "name": "stdout",
     "output_type": "stream",
     "text": [
      "used features: ['median', 'mean', 'standard_deviation', 'variance', 'maximum', 'minimum']\n"
     ]
    }
   ],
   "source": [
    "print('used features: {}'.format(list(df_fc_p.keys())))"
   ]
  },
  {
   "cell_type": "markdown",
   "metadata": {},
   "source": [
    "The following commands conveniently permit saving and retrieving the results to/from a CSV file."
   ]
  },
  {
   "cell_type": "code",
   "execution_count": 26,
   "metadata": {},
   "outputs": [],
   "source": [
    "scores.to_csv(r'./demo_1_benchmark_impact_of_using_simulated_and_hand-drawn_instances_scores.csv')\n",
    "#scores = pd.read_csv(r'./demo_1_benchmark_impact_of_using_simulated_and_hand-drawn_instances_scores.csv', index_col=0)"
   ]
  },
  {
   "cell_type": "markdown",
   "metadata": {},
   "source": [
    "# 3.1. Metrics in Tabular Format"
   ]
  },
  {
   "cell_type": "markdown",
   "metadata": {},
   "source": [
    "The following tables present the averages and standard deviation, respectively, of the metrics grouped by scenario and sorted by F1."
   ]
  },
  {
   "cell_type": "code",
   "execution_count": 17,
   "metadata": {},
   "outputs": [
    {
     "data": {
      "text/html": [
       "<div>\n",
       "<style scoped>\n",
       "    .dataframe tbody tr th:only-of-type {\n",
       "        vertical-align: middle;\n",
       "    }\n",
       "\n",
       "    .dataframe tbody tr th {\n",
       "        vertical-align: top;\n",
       "    }\n",
       "\n",
       "    .dataframe thead th {\n",
       "        text-align: right;\n",
       "    }\n",
       "</style>\n",
       "<table border=\"1\" class=\"dataframe\">\n",
       "  <thead>\n",
       "    <tr style=\"text-align: right;\">\n",
       "      <th></th>\n",
       "      <th>F1</th>\n",
       "      <th>PRECISION</th>\n",
       "      <th>RECALL</th>\n",
       "      <th>TRAINING[s]</th>\n",
       "      <th>TESTING[s]</th>\n",
       "    </tr>\n",
       "    <tr>\n",
       "      <th>SCENARIO</th>\n",
       "      <th></th>\n",
       "      <th></th>\n",
       "      <th></th>\n",
       "      <th></th>\n",
       "      <th></th>\n",
       "    </tr>\n",
       "  </thead>\n",
       "  <tbody>\n",
       "    <tr>\n",
       "      <th>5</th>\n",
       "      <td>0.904444</td>\n",
       "      <td>0.904444</td>\n",
       "      <td>0.904444</td>\n",
       "      <td>0.053979</td>\n",
       "      <td>0.001696</td>\n",
       "    </tr>\n",
       "    <tr>\n",
       "      <th>4</th>\n",
       "      <td>0.883333</td>\n",
       "      <td>0.883333</td>\n",
       "      <td>0.883333</td>\n",
       "      <td>0.364041</td>\n",
       "      <td>0.001759</td>\n",
       "    </tr>\n",
       "    <tr>\n",
       "      <th>2</th>\n",
       "      <td>0.848889</td>\n",
       "      <td>0.848889</td>\n",
       "      <td>0.848889</td>\n",
       "      <td>0.383833</td>\n",
       "      <td>0.001839</td>\n",
       "    </tr>\n",
       "    <tr>\n",
       "      <th>6</th>\n",
       "      <td>0.798889</td>\n",
       "      <td>0.798889</td>\n",
       "      <td>0.798889</td>\n",
       "      <td>0.410322</td>\n",
       "      <td>0.001769</td>\n",
       "    </tr>\n",
       "    <tr>\n",
       "      <th>7</th>\n",
       "      <td>0.760000</td>\n",
       "      <td>0.760000</td>\n",
       "      <td>0.760000</td>\n",
       "      <td>0.388131</td>\n",
       "      <td>0.001790</td>\n",
       "    </tr>\n",
       "    <tr>\n",
       "      <th>3</th>\n",
       "      <td>0.606667</td>\n",
       "      <td>0.606667</td>\n",
       "      <td>0.606667</td>\n",
       "      <td>0.045123</td>\n",
       "      <td>0.001701</td>\n",
       "    </tr>\n",
       "    <tr>\n",
       "      <th>1</th>\n",
       "      <td>0.498889</td>\n",
       "      <td>0.498889</td>\n",
       "      <td>0.498889</td>\n",
       "      <td>0.026120</td>\n",
       "      <td>0.001725</td>\n",
       "    </tr>\n",
       "  </tbody>\n",
       "</table>\n",
       "</div>"
      ],
      "text/plain": [
       "                F1  PRECISION    RECALL  TRAINING[s]  TESTING[s]\n",
       "SCENARIO                                                        \n",
       "5         0.904444   0.904444  0.904444     0.053979    0.001696\n",
       "4         0.883333   0.883333  0.883333     0.364041    0.001759\n",
       "2         0.848889   0.848889  0.848889     0.383833    0.001839\n",
       "6         0.798889   0.798889  0.798889     0.410322    0.001769\n",
       "7         0.760000   0.760000  0.760000     0.388131    0.001790\n",
       "3         0.606667   0.606667  0.606667     0.045123    0.001701\n",
       "1         0.498889   0.498889  0.498889     0.026120    0.001725"
      ]
     },
     "execution_count": 17,
     "metadata": {},
     "output_type": "execute_result"
    }
   ],
   "source": [
    "score_table = scores.drop(['CLASSIFIER'], axis=1).groupby(['SCENARIO']).mean().sort_values(by=['F1'], ascending=False)\n",
    "score_table"
   ]
  },
  {
   "cell_type": "code",
   "execution_count": 18,
   "metadata": {},
   "outputs": [
    {
     "data": {
      "text/html": [
       "<div>\n",
       "<style scoped>\n",
       "    .dataframe tbody tr th:only-of-type {\n",
       "        vertical-align: middle;\n",
       "    }\n",
       "\n",
       "    .dataframe tbody tr th {\n",
       "        vertical-align: top;\n",
       "    }\n",
       "\n",
       "    .dataframe thead th {\n",
       "        text-align: right;\n",
       "    }\n",
       "</style>\n",
       "<table border=\"1\" class=\"dataframe\">\n",
       "  <thead>\n",
       "    <tr style=\"text-align: right;\">\n",
       "      <th></th>\n",
       "      <th>F1</th>\n",
       "      <th>PRECISION</th>\n",
       "      <th>RECALL</th>\n",
       "      <th>TRAINING[s]</th>\n",
       "      <th>TESTING[s]</th>\n",
       "    </tr>\n",
       "    <tr>\n",
       "      <th>SCENARIO</th>\n",
       "      <th></th>\n",
       "      <th></th>\n",
       "      <th></th>\n",
       "      <th></th>\n",
       "      <th></th>\n",
       "    </tr>\n",
       "  </thead>\n",
       "  <tbody>\n",
       "    <tr>\n",
       "      <th>5</th>\n",
       "      <td>0.131389</td>\n",
       "      <td>0.131389</td>\n",
       "      <td>0.131389</td>\n",
       "      <td>0.049373</td>\n",
       "      <td>0.001706</td>\n",
       "    </tr>\n",
       "    <tr>\n",
       "      <th>2</th>\n",
       "      <td>0.137857</td>\n",
       "      <td>0.137857</td>\n",
       "      <td>0.137857</td>\n",
       "      <td>0.365368</td>\n",
       "      <td>0.001876</td>\n",
       "    </tr>\n",
       "    <tr>\n",
       "      <th>4</th>\n",
       "      <td>0.221974</td>\n",
       "      <td>0.221974</td>\n",
       "      <td>0.221974</td>\n",
       "      <td>0.332907</td>\n",
       "      <td>0.001672</td>\n",
       "    </tr>\n",
       "    <tr>\n",
       "      <th>6</th>\n",
       "      <td>0.230430</td>\n",
       "      <td>0.230430</td>\n",
       "      <td>0.230430</td>\n",
       "      <td>0.382114</td>\n",
       "      <td>0.001728</td>\n",
       "    </tr>\n",
       "    <tr>\n",
       "      <th>7</th>\n",
       "      <td>0.300452</td>\n",
       "      <td>0.300452</td>\n",
       "      <td>0.300452</td>\n",
       "      <td>0.361136</td>\n",
       "      <td>0.001760</td>\n",
       "    </tr>\n",
       "    <tr>\n",
       "      <th>3</th>\n",
       "      <td>0.367638</td>\n",
       "      <td>0.367638</td>\n",
       "      <td>0.367638</td>\n",
       "      <td>0.040059</td>\n",
       "      <td>0.001726</td>\n",
       "    </tr>\n",
       "    <tr>\n",
       "      <th>1</th>\n",
       "      <td>0.405644</td>\n",
       "      <td>0.405644</td>\n",
       "      <td>0.405644</td>\n",
       "      <td>0.023193</td>\n",
       "      <td>0.001809</td>\n",
       "    </tr>\n",
       "  </tbody>\n",
       "</table>\n",
       "</div>"
      ],
      "text/plain": [
       "                F1  PRECISION    RECALL  TRAINING[s]  TESTING[s]\n",
       "SCENARIO                                                        \n",
       "5         0.131389   0.131389  0.131389     0.049373    0.001706\n",
       "2         0.137857   0.137857  0.137857     0.365368    0.001876\n",
       "4         0.221974   0.221974  0.221974     0.332907    0.001672\n",
       "6         0.230430   0.230430  0.230430     0.382114    0.001728\n",
       "7         0.300452   0.300452  0.300452     0.361136    0.001760\n",
       "3         0.367638   0.367638  0.367638     0.040059    0.001726\n",
       "1         0.405644   0.405644  0.405644     0.023193    0.001809"
      ]
     },
     "execution_count": 18,
     "metadata": {},
     "output_type": "execute_result"
    }
   ],
   "source": [
    "score_table = scores.drop(['CLASSIFIER'], axis=1).groupby(['SCENARIO']).std().sort_values(by=['F1'], ascending=True)\n",
    "score_table"
   ]
  },
  {
   "cell_type": "markdown",
   "metadata": {},
   "source": [
    "The following tables present the averages and standard deviation, respectively, of the metrics grouped by classifier and sorted by F1."
   ]
  },
  {
   "cell_type": "code",
   "execution_count": 19,
   "metadata": {},
   "outputs": [
    {
     "data": {
      "text/html": [
       "<div>\n",
       "<style scoped>\n",
       "    .dataframe tbody tr th:only-of-type {\n",
       "        vertical-align: middle;\n",
       "    }\n",
       "\n",
       "    .dataframe tbody tr th {\n",
       "        vertical-align: top;\n",
       "    }\n",
       "\n",
       "    .dataframe thead th {\n",
       "        text-align: right;\n",
       "    }\n",
       "</style>\n",
       "<table border=\"1\" class=\"dataframe\">\n",
       "  <thead>\n",
       "    <tr style=\"text-align: right;\">\n",
       "      <th></th>\n",
       "      <th>F1</th>\n",
       "      <th>PRECISION</th>\n",
       "      <th>RECALL</th>\n",
       "      <th>TRAINING[s]</th>\n",
       "      <th>TESTING[s]</th>\n",
       "    </tr>\n",
       "    <tr>\n",
       "      <th>CLASSIFIER</th>\n",
       "      <th></th>\n",
       "      <th></th>\n",
       "      <th></th>\n",
       "      <th></th>\n",
       "      <th></th>\n",
       "    </tr>\n",
       "  </thead>\n",
       "  <tbody>\n",
       "    <tr>\n",
       "      <th>Random Forest</th>\n",
       "      <td>0.824762</td>\n",
       "      <td>0.824762</td>\n",
       "      <td>0.824762</td>\n",
       "      <td>0.033968</td>\n",
       "      <td>0.001230</td>\n",
       "    </tr>\n",
       "    <tr>\n",
       "      <th>Gradient Boosting</th>\n",
       "      <td>0.786667</td>\n",
       "      <td>0.786667</td>\n",
       "      <td>0.786667</td>\n",
       "      <td>0.513818</td>\n",
       "      <td>0.000628</td>\n",
       "    </tr>\n",
       "    <tr>\n",
       "      <th>AdaBoost</th>\n",
       "      <td>0.785397</td>\n",
       "      <td>0.785397</td>\n",
       "      <td>0.785397</td>\n",
       "      <td>0.384181</td>\n",
       "      <td>0.004662</td>\n",
       "    </tr>\n",
       "    <tr>\n",
       "      <th>Decision Tree</th>\n",
       "      <td>0.632381</td>\n",
       "      <td>0.632381</td>\n",
       "      <td>0.632381</td>\n",
       "      <td>0.023204</td>\n",
       "      <td>0.000498</td>\n",
       "    </tr>\n",
       "  </tbody>\n",
       "</table>\n",
       "</div>"
      ],
      "text/plain": [
       "                         F1  PRECISION    RECALL  TRAINING[s]  TESTING[s]\n",
       "CLASSIFIER                                                               \n",
       "Random Forest      0.824762   0.824762  0.824762     0.033968    0.001230\n",
       "Gradient Boosting  0.786667   0.786667  0.786667     0.513818    0.000628\n",
       "AdaBoost           0.785397   0.785397  0.785397     0.384181    0.004662\n",
       "Decision Tree      0.632381   0.632381  0.632381     0.023204    0.000498"
      ]
     },
     "execution_count": 19,
     "metadata": {},
     "output_type": "execute_result"
    }
   ],
   "source": [
    "score_table = scores.drop(['SCENARIO'], axis=1).groupby(['CLASSIFIER']).mean().sort_values(by=['F1'], ascending=False)\n",
    "score_table"
   ]
  },
  {
   "cell_type": "code",
   "execution_count": 20,
   "metadata": {},
   "outputs": [
    {
     "data": {
      "text/html": [
       "<div>\n",
       "<style scoped>\n",
       "    .dataframe tbody tr th:only-of-type {\n",
       "        vertical-align: middle;\n",
       "    }\n",
       "\n",
       "    .dataframe tbody tr th {\n",
       "        vertical-align: top;\n",
       "    }\n",
       "\n",
       "    .dataframe thead th {\n",
       "        text-align: right;\n",
       "    }\n",
       "</style>\n",
       "<table border=\"1\" class=\"dataframe\">\n",
       "  <thead>\n",
       "    <tr style=\"text-align: right;\">\n",
       "      <th></th>\n",
       "      <th>F1</th>\n",
       "      <th>PRECISION</th>\n",
       "      <th>RECALL</th>\n",
       "      <th>TRAINING[s]</th>\n",
       "      <th>TESTING[s]</th>\n",
       "    </tr>\n",
       "    <tr>\n",
       "      <th>CLASSIFIER</th>\n",
       "      <th></th>\n",
       "      <th></th>\n",
       "      <th></th>\n",
       "      <th></th>\n",
       "      <th></th>\n",
       "    </tr>\n",
       "  </thead>\n",
       "  <tbody>\n",
       "    <tr>\n",
       "      <th>Random Forest</th>\n",
       "      <td>0.249023</td>\n",
       "      <td>0.249023</td>\n",
       "      <td>0.249023</td>\n",
       "      <td>0.021565</td>\n",
       "      <td>0.000088</td>\n",
       "    </tr>\n",
       "    <tr>\n",
       "      <th>Gradient Boosting</th>\n",
       "      <td>0.267113</td>\n",
       "      <td>0.267113</td>\n",
       "      <td>0.267113</td>\n",
       "      <td>0.382560</td>\n",
       "      <td>0.000058</td>\n",
       "    </tr>\n",
       "    <tr>\n",
       "      <th>AdaBoost</th>\n",
       "      <td>0.269427</td>\n",
       "      <td>0.269427</td>\n",
       "      <td>0.269427</td>\n",
       "      <td>0.276557</td>\n",
       "      <td>0.000352</td>\n",
       "    </tr>\n",
       "    <tr>\n",
       "      <th>Decision Tree</th>\n",
       "      <td>0.384271</td>\n",
       "      <td>0.384271</td>\n",
       "      <td>0.384271</td>\n",
       "      <td>0.019997</td>\n",
       "      <td>0.000080</td>\n",
       "    </tr>\n",
       "  </tbody>\n",
       "</table>\n",
       "</div>"
      ],
      "text/plain": [
       "                         F1  PRECISION    RECALL  TRAINING[s]  TESTING[s]\n",
       "CLASSIFIER                                                               \n",
       "Random Forest      0.249023   0.249023  0.249023     0.021565    0.000088\n",
       "Gradient Boosting  0.267113   0.267113  0.267113     0.382560    0.000058\n",
       "AdaBoost           0.269427   0.269427  0.269427     0.276557    0.000352\n",
       "Decision Tree      0.384271   0.384271  0.384271     0.019997    0.000080"
      ]
     },
     "execution_count": 20,
     "metadata": {},
     "output_type": "execute_result"
    }
   ],
   "source": [
    "score_table = scores.drop(['SCENARIO'], axis=1).groupby(['CLASSIFIER']).std().sort_values(by=['F1'], ascending=True)\n",
    "score_table"
   ]
  },
  {
   "cell_type": "markdown",
   "metadata": {},
   "source": [
    "# 3.2. Non-Parametric Multiple Comparison Analysis"
   ]
  },
  {
   "cell_type": "markdown",
   "metadata": {},
   "source": [
    "The following output (p_value < 5%) reveals that the null-hypothesis that all scenarios have the same performance is false. That means that at least one of them have, with high probability, different F1 mean values compared to the others."
   ]
  },
  {
   "cell_type": "code",
   "execution_count": 21,
   "metadata": {},
   "outputs": [
    {
     "name": "stdout",
     "output_type": "stream",
     "text": [
      "p_value: 0.001709469921214568\n"
     ]
    }
   ],
   "source": [
    "c_names = [c+1 for c in add_source.keys()]\n",
    "f1s = [scores.loc[scores['SCENARIO']==cn, 'F1'].values for cn in c_names]\n",
    "f_value_stat, p_value, ranks, pivots = stac.friedman_test(*(f1s))\n",
    "print('p_value: {}'.format(p_value))"
   ]
  },
  {
   "cell_type": "markdown",
   "metadata": {},
   "source": [
    "Now we investigate which scenarios have statistically different F1 mean values compared to the scenario 1 (training with real instance only). The p_values and adj_p_values indicate that scenarios 4 and 5 have statistically better performances, with high probability, compared to the scenario 1 (< 5%)."
   ]
  },
  {
   "cell_type": "code",
   "execution_count": 22,
   "metadata": {},
   "outputs": [
    {
     "name": "stdout",
     "output_type": "stream",
     "text": [
      "scenario 1 vs scenario 4: \n",
      "\tp_values: 0.0006654022432110995\n",
      "\tadj_p_values: 0.003992413459266597\n",
      "scenario 1 vs scenario 5: \n",
      "\tp_values: 0.0012798047930306922\n",
      "\tadj_p_values: 0.006399023965153461\n",
      "scenario 1 vs scenario 2: \n",
      "\tp_values: 0.06727796053834889\n",
      "\tadj_p_values: 0.26911184215339556\n",
      "scenario 1 vs scenario 7: \n",
      "\tp_values: 0.0922923390340733\n",
      "\tadj_p_values: 0.2768770171022199\n",
      "scenario 1 vs scenario 6: \n",
      "\tp_values: 0.11557096219724294\n",
      "\tadj_p_values: 0.2768770171022199\n",
      "scenario 1 vs scenario 3: \n",
      "\tp_values: 0.7418788559147753\n",
      "\tadj_p_values: 0.7418788559147753\n"
     ]
    }
   ],
   "source": [
    "c_names_2 = ['scenario {}'.format(cn) for cn in c_names]\n",
    "ret = stac.holm_test(len(pivots), pivots, c_names_2, c_names_2.index('scenario 1'))\n",
    "comp, z_values_stat, p_values, adj_p_values = ret\n",
    "for i in range(len(comp)):\n",
    "    print('{}: \\n\\tp_values: {}\\n\\tadj_p_values: {}'.format(comp[i], p_values[i], adj_p_values[i])) "
   ]
  },
  {
   "cell_type": "markdown",
   "metadata": {},
   "source": [
    "The following output (p_value > 5%) reveals that the null-hypothesis that all classifiers have the same performance cannot be rejected. That means that all classifiers have, with high probability, statistically compatible F1 mean values."
   ]
  },
  {
   "cell_type": "code",
   "execution_count": 23,
   "metadata": {},
   "outputs": [
    {
     "name": "stdout",
     "output_type": "stream",
     "text": [
      "p_value: 0.2787227143117432\n"
     ]
    }
   ],
   "source": [
    "c_names = [c for c in clfs.keys()]\n",
    "f1s = [scores.loc[scores['CLASSIFIER']==cn, 'F1'].values for cn in c_names]\n",
    "f_value_stat, p_value, ranks, pivots = stac.friedman_test(*(f1s))\n",
    "print('p_value: {}'.format(p_value))"
   ]
  },
  {
   "cell_type": "markdown",
   "metadata": {},
   "source": [
    "# 3.3. Metrics in Boxplots"
   ]
  },
  {
   "cell_type": "markdown",
   "metadata": {},
   "source": [
    "The boxplots presented below are ordered by F1 mean values of the considered scenarios."
   ]
  },
  {
   "cell_type": "code",
   "execution_count": 24,
   "metadata": {},
   "outputs": [
    {
     "data": {
      "image/png": "[encoded data removed]",
      "text/plain": [
       "<Figure size 864x86.4 with 1 Axes>"
      ]
     },
     "metadata": {},
     "output_type": "display_data"
    },
    {
     "data": {
      "image/png": "[encoded data removed]",
      "text/plain": [
       "<Figure size 864x86.4 with 1 Axes>"
      ]
     },
     "metadata": {},
     "output_type": "display_data"
    },
    {
     "data": {
      "image/png": "[encoded data removed]",
      "text/plain": [
       "<Figure size 864x86.4 with 1 Axes>"
      ]
     },
     "metadata": {},
     "output_type": "display_data"
    },
    {
     "data": {
      "image/png": "[encoded data removed]",
      "text/plain": [
       "<Figure size 864x86.4 with 1 Axes>"
      ]
     },
     "metadata": {},
     "output_type": "display_data"
    },
    {
     "data": {
      "image/png": "[encoded data removed]",
      "text/plain": [
       "<Figure size 864x86.4 with 1 Axes>"
      ]
     },
     "metadata": {},
     "output_type": "display_data"
    }
   ],
   "source": [
    "sns.set(font_scale=0.75, style=\"whitegrid\")\n",
    "for score in scores.columns.drop(['CLASSIFIER', 'SCENARIO']):\n",
    "    plt.figure(figsize=(12,1.2))\n",
    "    bplot=sns.boxplot(y='SCENARIO', x=score, data=scores, width=0.4,\n",
    "                      palette='colorblind', orient='h');\n",
    "    bplot=sns.stripplot(y='SCENARIO', x=score, data=scores, jitter=True, marker='o',\n",
    "                        alpha=0.5, color='black', orient='h')"
   ]
  },
  {
   "cell_type": "markdown",
   "metadata": {},
   "source": [
    "The boxplots presented below are ordered by F1 mean values of the considered classifiers."
   ]
  },
  {
   "cell_type": "code",
   "execution_count": 25,
   "metadata": {},
   "outputs": [
    {
     "data": {
      "image/png": "[encoded data removed]",
      "text/plain": [
       "<Figure size 864x86.4 with 1 Axes>"
      ]
     },
     "metadata": {},
     "output_type": "display_data"
    },
    {
     "data": {
      "image/png": "[encoded data removed]",
      "text/plain": [
       "<Figure size 864x86.4 with 1 Axes>"
      ]
     },
     "metadata": {},
     "output_type": "display_data"
    },
    {
     "data": {
      "image/png": "[encoded data removed]",
      "text/plain": [
       "<Figure size 864x86.4 with 1 Axes>"
      ]
     },
     "metadata": {},
     "output_type": "display_data"
    },
    {
     "data": {
      "image/png": "[encoded data removed]",
      "text/plain": [
       "<Figure size 864x86.4 with 1 Axes>"
      ]
     },
     "metadata": {},
     "output_type": "display_data"
    },
    {
     "data": {
      "image/png": "[encoded data removed]",
      "text/plain": [
       "<Figure size 864x86.4 with 1 Axes>"
      ]
     },
     "metadata": {},
     "output_type": "display_data"
    }
   ],
   "source": [
    "sns.set(font_scale=0.75, style=\"whitegrid\")\n",
    "for score in scores.columns.drop(['CLASSIFIER', 'SCENARIO']):\n",
    "    plt.figure(figsize=(12,1.2))\n",
    "    bplot=sns.boxplot(y='CLASSIFIER', x=score, data=scores, width=0.4,\n",
    "                      palette='colorblind', order=list(score_table.index), orient='h');\n",
    "    bplot=sns.stripplot(y='CLASSIFIER', x=score, data=scores, jitter=True, marker='o',\n",
    "                        alpha=0.5, color='black', order=list(score_table.index), orient='h')"
   ]
  },
  {
   "cell_type": "markdown",
   "metadata": {},
   "source": [
    "# 4. Conclusion"
   ]
  },
  {
   "cell_type": "markdown",
   "metadata": {},
   "source": [
    "Given the results presented above, we can state that the classifier \"Random Forest\" presents better performance in terms of averages and standard deviation of the metrics F1, PRECISION and RECALL, but not in terms of the times for training and testing. We also can state that the scenario 1 produces the worst performances related to the averages and standard deviation of the metrics F1, PRECISION and RECALL.\n",
    "\n",
    "After a non-parametric multiple comparison analysis, we verified that all classifiers have, with high probability, statistically compatible F1 mean values. We also verified that two scenarios 4 (training with real and simulated instances) and 5 (training with real and hand-drawn instances) have statistically better performances, with high probability, compared to the scenario 1 (training with real instance only).\n",
    "\n",
    "Therefore, we can state that using simulated and hand-drawn instances in machine learning algorithm training, specially together with real instances, has a positive impact for anomaly detections in other real instances."
   ]
  }
 ],
 "metadata": {
  "kernelspec": {
   "display_name": "base",
   "language": "python",
   "name": "python3"
  },
  "language_info": {
   "codemirror_mode": {
    "name": "ipython",
    "version": 3
   },
   "file_extension": ".py",
   "mimetype": "text/x-python",
   "name": "python",
   "nbconvert_exporter": "python",
   "pygments_lexer": "ipython3",
   "version": "3.12.4"
  },
  "toc": {
   "base_numbering": 1,
   "nav_menu": {},
   "number_sections": false,
   "sideBar": true,
   "skip_h1_title": false,
   "title_cell": "Sumário",
   "title_sidebar": "Sumário",
   "toc_cell": false,
   "toc_position": {
    "height": "calc(100% - 180px)",
    "left": "10px",
    "top": "150px",
    "width": "165px"
   },
   "toc_section_display": true,
   "toc_window_display": false
  }
 },
 "nbformat": 4,
 "nbformat_minor": 2
}
